{
 "cells": [
  {
   "cell_type": "code",
   "execution_count": 1,
   "metadata": {},
   "outputs": [],
   "source": [
    "import pandas as pd\n",
    "CSV = \"SERVER_TEST_NULL_10_100_1000.csv\""
   ]
  },
  {
   "cell_type": "code",
   "execution_count": 6,
   "metadata": {},
   "outputs": [],
   "source": [
    "df = pd.read_csv(CSV,index_col=None)  \n",
    "\n"
   ]
  },
  {
   "cell_type": "code",
   "execution_count": 7,
   "metadata": {},
   "outputs": [
    {
     "data": {
      "text/html": [
       "<div>\n",
       "<style scoped>\n",
       "    .dataframe tbody tr th:only-of-type {\n",
       "        vertical-align: middle;\n",
       "    }\n",
       "\n",
       "    .dataframe tbody tr th {\n",
       "        vertical-align: top;\n",
       "    }\n",
       "\n",
       "    .dataframe thead th {\n",
       "        text-align: right;\n",
       "    }\n",
       "</style>\n",
       "<table border=\"1\" class=\"dataframe\">\n",
       "  <thead>\n",
       "    <tr style=\"text-align: right;\">\n",
       "      <th></th>\n",
       "      <th>THREAD_POOL_SIZE</th>\n",
       "      <th>RANGE OF</th>\n",
       "      <th>REQUEST</th>\n",
       "      <th>NUMBER</th>\n",
       "      <th>STATUS_CODE</th>\n",
       "      <th>END_TIME</th>\n",
       "      <th>START_TIME</th>\n",
       "    </tr>\n",
       "  </thead>\n",
       "  <tbody>\n",
       "    <tr>\n",
       "      <th>0</th>\n",
       "      <td>0</td>\n",
       "      <td>1000</td>\n",
       "      <td>0</td>\n",
       "      <td>200</td>\n",
       "      <td>2022-11-27 12:43:20.345009</td>\n",
       "      <td>2022-11-27 12:43:19.341172</td>\n",
       "      <td>NaN</td>\n",
       "    </tr>\n",
       "    <tr>\n",
       "      <th>1</th>\n",
       "      <td>0</td>\n",
       "      <td>1000</td>\n",
       "      <td>1</td>\n",
       "      <td>200</td>\n",
       "      <td>2022-11-27 12:43:21.344102</td>\n",
       "      <td>2022-11-27 12:43:19.342807</td>\n",
       "      <td>NaN</td>\n",
       "    </tr>\n",
       "    <tr>\n",
       "      <th>2</th>\n",
       "      <td>0</td>\n",
       "      <td>1000</td>\n",
       "      <td>2</td>\n",
       "      <td>200</td>\n",
       "      <td>2022-11-27 12:43:22.344846</td>\n",
       "      <td>2022-11-27 12:43:19.344561</td>\n",
       "      <td>NaN</td>\n",
       "    </tr>\n",
       "    <tr>\n",
       "      <th>3</th>\n",
       "      <td>0</td>\n",
       "      <td>1000</td>\n",
       "      <td>3</td>\n",
       "      <td>200</td>\n",
       "      <td>2022-11-27 12:43:23.344847</td>\n",
       "      <td>2022-11-27 12:43:19.346085</td>\n",
       "      <td>NaN</td>\n",
       "    </tr>\n",
       "    <tr>\n",
       "      <th>4</th>\n",
       "      <td>0</td>\n",
       "      <td>1000</td>\n",
       "      <td>4</td>\n",
       "      <td>200</td>\n",
       "      <td>2022-11-27 12:43:24.345334</td>\n",
       "      <td>2022-11-27 12:43:19.347478</td>\n",
       "      <td>NaN</td>\n",
       "    </tr>\n",
       "    <tr>\n",
       "      <th>...</th>\n",
       "      <td>...</td>\n",
       "      <td>...</td>\n",
       "      <td>...</td>\n",
       "      <td>...</td>\n",
       "      <td>...</td>\n",
       "      <td>...</td>\n",
       "      <td>...</td>\n",
       "    </tr>\n",
       "    <tr>\n",
       "      <th>995</th>\n",
       "      <td>0</td>\n",
       "      <td>1000</td>\n",
       "      <td>536</td>\n",
       "      <td>200</td>\n",
       "      <td>2022-11-27 12:47:23.428490</td>\n",
       "      <td>2022-11-27 12:43:19.977732</td>\n",
       "      <td>NaN</td>\n",
       "    </tr>\n",
       "    <tr>\n",
       "      <th>996</th>\n",
       "      <td>0</td>\n",
       "      <td>1000</td>\n",
       "      <td>643</td>\n",
       "      <td>200</td>\n",
       "      <td>2022-11-27 12:47:24.428920</td>\n",
       "      <td>2022-11-27 12:43:20.075146</td>\n",
       "      <td>NaN</td>\n",
       "    </tr>\n",
       "    <tr>\n",
       "      <th>997</th>\n",
       "      <td>0</td>\n",
       "      <td>1000</td>\n",
       "      <td>718</td>\n",
       "      <td>200</td>\n",
       "      <td>2022-11-27 12:47:25.429258</td>\n",
       "      <td>2022-11-27 12:43:20.173296</td>\n",
       "      <td>NaN</td>\n",
       "    </tr>\n",
       "    <tr>\n",
       "      <th>998</th>\n",
       "      <td>0</td>\n",
       "      <td>1000</td>\n",
       "      <td>632</td>\n",
       "      <td>200</td>\n",
       "      <td>2022-11-27 12:47:26.430053</td>\n",
       "      <td>2022-11-27 12:43:20.064311</td>\n",
       "      <td>NaN</td>\n",
       "    </tr>\n",
       "    <tr>\n",
       "      <th>999</th>\n",
       "      <td>0</td>\n",
       "      <td>1000</td>\n",
       "      <td>491</td>\n",
       "      <td>200</td>\n",
       "      <td>2022-11-27 12:47:27.430195</td>\n",
       "      <td>2022-11-27 12:43:19.921482</td>\n",
       "      <td>NaN</td>\n",
       "    </tr>\n",
       "  </tbody>\n",
       "</table>\n",
       "<p>1000 rows × 7 columns</p>\n",
       "</div>"
      ],
      "text/plain": [
       "     THREAD_POOL_SIZE  RANGE OF  REQUEST  NUMBER                 STATUS_CODE  \\\n",
       "0                   0      1000        0     200  2022-11-27 12:43:20.345009   \n",
       "1                   0      1000        1     200  2022-11-27 12:43:21.344102   \n",
       "2                   0      1000        2     200  2022-11-27 12:43:22.344846   \n",
       "3                   0      1000        3     200  2022-11-27 12:43:23.344847   \n",
       "4                   0      1000        4     200  2022-11-27 12:43:24.345334   \n",
       "..                ...       ...      ...     ...                         ...   \n",
       "995                 0      1000      536     200  2022-11-27 12:47:23.428490   \n",
       "996                 0      1000      643     200  2022-11-27 12:47:24.428920   \n",
       "997                 0      1000      718     200  2022-11-27 12:47:25.429258   \n",
       "998                 0      1000      632     200  2022-11-27 12:47:26.430053   \n",
       "999                 0      1000      491     200  2022-11-27 12:47:27.430195   \n",
       "\n",
       "                       END_TIME  START_TIME  \n",
       "0    2022-11-27 12:43:19.341172         NaN  \n",
       "1    2022-11-27 12:43:19.342807         NaN  \n",
       "2    2022-11-27 12:43:19.344561         NaN  \n",
       "3    2022-11-27 12:43:19.346085         NaN  \n",
       "4    2022-11-27 12:43:19.347478         NaN  \n",
       "..                          ...         ...  \n",
       "995  2022-11-27 12:43:19.977732         NaN  \n",
       "996  2022-11-27 12:43:20.075146         NaN  \n",
       "997  2022-11-27 12:43:20.173296         NaN  \n",
       "998  2022-11-27 12:43:20.064311         NaN  \n",
       "999  2022-11-27 12:43:19.921482         NaN  \n",
       "\n",
       "[1000 rows x 7 columns]"
      ]
     },
     "execution_count": 7,
     "metadata": {},
     "output_type": "execute_result"
    }
   ],
   "source": [
    "df"
   ]
  },
  {
   "cell_type": "code",
   "execution_count": 11,
   "metadata": {},
   "outputs": [
    {
     "name": "stderr",
     "output_type": "stream",
     "text": [
      "/tmp/ipykernel_337141/3261657983.py:1: FutureWarning: The default value of numeric_only in DataFrameGroupBy.sum is deprecated. In a future version, numeric_only will default to False. Either specify numeric_only or select only columns which should be valid for the function.\n",
      "  plot =  df.groupby([\"NUMBER\"]).sum().plot(kind='pie',autopct='%1.1f%',y='RANGE OF')\n"
     ]
    },
    {
     "ename": "ValueError",
     "evalue": "incomplete format",
     "output_type": "error",
     "traceback": [
      "\u001b[0;31m---------------------------------------------------------------------------\u001b[0m",
      "\u001b[0;31mValueError\u001b[0m                                Traceback (most recent call last)",
      "Cell \u001b[0;32mIn[11], line 1\u001b[0m\n\u001b[0;32m----> 1\u001b[0m plot \u001b[39m=\u001b[39m  df\u001b[39m.\u001b[39;49mgroupby([\u001b[39m\"\u001b[39;49m\u001b[39mNUMBER\u001b[39;49m\u001b[39m\"\u001b[39;49m])\u001b[39m.\u001b[39;49msum()\u001b[39m.\u001b[39;49mplot(kind\u001b[39m=\u001b[39;49m\u001b[39m'\u001b[39;49m\u001b[39mpie\u001b[39;49m\u001b[39m'\u001b[39;49m,autopct\u001b[39m=\u001b[39;49m\u001b[39m'\u001b[39;49m\u001b[39m%1.1f\u001b[39;49;00m\u001b[39m%\u001b[39;49m\u001b[39m'\u001b[39;49m,y\u001b[39m=\u001b[39;49m\u001b[39m'\u001b[39;49m\u001b[39mRANGE OF\u001b[39;49m\u001b[39m'\u001b[39;49m)\n",
      "File \u001b[0;32m~/dev/comp3659-assignment-2-rust-webserver/.venv/lib/python3.8/site-packages/pandas/plotting/_core.py:1000\u001b[0m, in \u001b[0;36mPlotAccessor.__call__\u001b[0;34m(self, *args, **kwargs)\u001b[0m\n\u001b[1;32m    997\u001b[0m             label_name \u001b[39m=\u001b[39m label_kw \u001b[39mor\u001b[39;00m data\u001b[39m.\u001b[39mcolumns\n\u001b[1;32m    998\u001b[0m             data\u001b[39m.\u001b[39mcolumns \u001b[39m=\u001b[39m label_name\n\u001b[0;32m-> 1000\u001b[0m \u001b[39mreturn\u001b[39;00m plot_backend\u001b[39m.\u001b[39;49mplot(data, kind\u001b[39m=\u001b[39;49mkind, \u001b[39m*\u001b[39;49m\u001b[39m*\u001b[39;49mkwargs)\n",
      "File \u001b[0;32m~/dev/comp3659-assignment-2-rust-webserver/.venv/lib/python3.8/site-packages/pandas/plotting/_matplotlib/__init__.py:71\u001b[0m, in \u001b[0;36mplot\u001b[0;34m(data, kind, **kwargs)\u001b[0m\n\u001b[1;32m     69\u001b[0m         kwargs[\u001b[39m\"\u001b[39m\u001b[39max\u001b[39m\u001b[39m\"\u001b[39m] \u001b[39m=\u001b[39m \u001b[39mgetattr\u001b[39m(ax, \u001b[39m\"\u001b[39m\u001b[39mleft_ax\u001b[39m\u001b[39m\"\u001b[39m, ax)\n\u001b[1;32m     70\u001b[0m plot_obj \u001b[39m=\u001b[39m PLOT_CLASSES[kind](data, \u001b[39m*\u001b[39m\u001b[39m*\u001b[39mkwargs)\n\u001b[0;32m---> 71\u001b[0m plot_obj\u001b[39m.\u001b[39;49mgenerate()\n\u001b[1;32m     72\u001b[0m plot_obj\u001b[39m.\u001b[39mdraw()\n\u001b[1;32m     73\u001b[0m \u001b[39mreturn\u001b[39;00m plot_obj\u001b[39m.\u001b[39mresult\n",
      "File \u001b[0;32m~/dev/comp3659-assignment-2-rust-webserver/.venv/lib/python3.8/site-packages/pandas/plotting/_matplotlib/core.py:452\u001b[0m, in \u001b[0;36mMPLPlot.generate\u001b[0;34m(self)\u001b[0m\n\u001b[1;32m    450\u001b[0m \u001b[39mself\u001b[39m\u001b[39m.\u001b[39m_compute_plot_data()\n\u001b[1;32m    451\u001b[0m \u001b[39mself\u001b[39m\u001b[39m.\u001b[39m_setup_subplots()\n\u001b[0;32m--> 452\u001b[0m \u001b[39mself\u001b[39;49m\u001b[39m.\u001b[39;49m_make_plot()\n\u001b[1;32m    453\u001b[0m \u001b[39mself\u001b[39m\u001b[39m.\u001b[39m_add_table()\n\u001b[1;32m    454\u001b[0m \u001b[39mself\u001b[39m\u001b[39m.\u001b[39m_make_legend()\n",
      "File \u001b[0;32m~/dev/comp3659-assignment-2-rust-webserver/.venv/lib/python3.8/site-packages/pandas/plotting/_matplotlib/core.py:1841\u001b[0m, in \u001b[0;36mPiePlot._make_plot\u001b[0;34m(self)\u001b[0m\n\u001b[1;32m   1839\u001b[0m \u001b[39melse\u001b[39;00m:\n\u001b[1;32m   1840\u001b[0m     blabels \u001b[39m=\u001b[39m \u001b[39mNone\u001b[39;00m\n\u001b[0;32m-> 1841\u001b[0m results \u001b[39m=\u001b[39m ax\u001b[39m.\u001b[39;49mpie(y, labels\u001b[39m=\u001b[39;49mblabels, \u001b[39m*\u001b[39;49m\u001b[39m*\u001b[39;49mkwds)\n\u001b[1;32m   1843\u001b[0m \u001b[39mif\u001b[39;00m kwds\u001b[39m.\u001b[39mget(\u001b[39m\"\u001b[39m\u001b[39mautopct\u001b[39m\u001b[39m\"\u001b[39m, \u001b[39mNone\u001b[39;00m) \u001b[39mis\u001b[39;00m \u001b[39mnot\u001b[39;00m \u001b[39mNone\u001b[39;00m:\n\u001b[1;32m   1844\u001b[0m     patches, texts, autotexts \u001b[39m=\u001b[39m results\n",
      "File \u001b[0;32m~/dev/comp3659-assignment-2-rust-webserver/.venv/lib/python3.8/site-packages/matplotlib/__init__.py:1423\u001b[0m, in \u001b[0;36m_preprocess_data.<locals>.inner\u001b[0;34m(ax, data, *args, **kwargs)\u001b[0m\n\u001b[1;32m   1420\u001b[0m \u001b[39m@functools\u001b[39m\u001b[39m.\u001b[39mwraps(func)\n\u001b[1;32m   1421\u001b[0m \u001b[39mdef\u001b[39;00m \u001b[39minner\u001b[39m(ax, \u001b[39m*\u001b[39margs, data\u001b[39m=\u001b[39m\u001b[39mNone\u001b[39;00m, \u001b[39m*\u001b[39m\u001b[39m*\u001b[39mkwargs):\n\u001b[1;32m   1422\u001b[0m     \u001b[39mif\u001b[39;00m data \u001b[39mis\u001b[39;00m \u001b[39mNone\u001b[39;00m:\n\u001b[0;32m-> 1423\u001b[0m         \u001b[39mreturn\u001b[39;00m func(ax, \u001b[39m*\u001b[39;49m\u001b[39mmap\u001b[39;49m(sanitize_sequence, args), \u001b[39m*\u001b[39;49m\u001b[39m*\u001b[39;49mkwargs)\n\u001b[1;32m   1425\u001b[0m     bound \u001b[39m=\u001b[39m new_sig\u001b[39m.\u001b[39mbind(ax, \u001b[39m*\u001b[39margs, \u001b[39m*\u001b[39m\u001b[39m*\u001b[39mkwargs)\n\u001b[1;32m   1426\u001b[0m     auto_label \u001b[39m=\u001b[39m (bound\u001b[39m.\u001b[39marguments\u001b[39m.\u001b[39mget(label_namer)\n\u001b[1;32m   1427\u001b[0m                   \u001b[39mor\u001b[39;00m bound\u001b[39m.\u001b[39mkwargs\u001b[39m.\u001b[39mget(label_namer))\n",
      "File \u001b[0;32m~/dev/comp3659-assignment-2-rust-webserver/.venv/lib/python3.8/site-packages/matplotlib/axes/_axes.py:3242\u001b[0m, in \u001b[0;36mAxes.pie\u001b[0;34m(self, x, explode, labels, colors, autopct, pctdistance, shadow, labeldistance, startangle, radius, counterclock, wedgeprops, textprops, center, frame, rotatelabels, normalize)\u001b[0m\n\u001b[1;32m   3240\u001b[0m yt \u001b[39m=\u001b[39m y \u001b[39m+\u001b[39m pctdistance \u001b[39m*\u001b[39m radius \u001b[39m*\u001b[39m math\u001b[39m.\u001b[39msin(thetam)\n\u001b[1;32m   3241\u001b[0m \u001b[39mif\u001b[39;00m \u001b[39misinstance\u001b[39m(autopct, \u001b[39mstr\u001b[39m):\n\u001b[0;32m-> 3242\u001b[0m     s \u001b[39m=\u001b[39m autopct \u001b[39m%\u001b[39;49m (\u001b[39m100.\u001b[39;49m \u001b[39m*\u001b[39;49m frac)\n\u001b[1;32m   3243\u001b[0m \u001b[39melif\u001b[39;00m callable(autopct):\n\u001b[1;32m   3244\u001b[0m     s \u001b[39m=\u001b[39m autopct(\u001b[39m100.\u001b[39m \u001b[39m*\u001b[39m frac)\n",
      "\u001b[0;31mValueError\u001b[0m: incomplete format"
     ]
    },
    {
     "data": {
      "image/png": "[encoded data removed]",
      "text/plain": [
       "<Figure size 640x480 with 1 Axes>"
      ]
     },
     "metadata": {},
     "output_type": "display_data"
    }
   ],
   "source": [
    "plot =  df.groupby([\"NUMBER\"]).sum().plot(kind='pie',y='RANGE OF',autopct='%1.1f%%')"
   ]
  }
 ],
 "metadata": {
  "kernelspec": {
   "display_name": "Python 3.8.10 ('.venv': venv)",
   "language": "python",
   "name": "python3"
  },
  "language_info": {
   "codemirror_mode": {
    "name": "ipython",
    "version": 3
   },
   "file_extension": ".py",
   "mimetype": "text/x-python",
   "name": "python",
   "nbconvert_exporter": "python",
   "pygments_lexer": "ipython3",
   "version": "3.8.10"
  },
  "orig_nbformat": 4,
  "vscode": {
   "interpreter": {
    "hash": "71919b882b0fba0ca128b06d9acde28689aad29252eca79585c0457cf9076bef"
   }
  }
 },
 "nbformat": 4,
 "nbformat_minor": 2
}
