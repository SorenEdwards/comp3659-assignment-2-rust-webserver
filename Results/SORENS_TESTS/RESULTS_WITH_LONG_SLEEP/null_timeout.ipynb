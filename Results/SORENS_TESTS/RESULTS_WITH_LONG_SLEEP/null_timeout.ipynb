{
 "cells": [
  {
   "cell_type": "code",
   "execution_count": 1,
   "metadata": {},
   "outputs": [],
   "source": [
    "import pandas as pd\n",
    "CSV = \"SERVER_TEST_NULL_10_100_1000.csv\""
   ]
  },
  {
   "cell_type": "code",
   "execution_count": 6,
   "metadata": {},
   "outputs": [],
   "source": [
    "df = pd.read_csv(CSV,index_col=None)  \n",
    "\n"
   ]
  },
  {
   "cell_type": "code",
   "execution_count": 7,
   "metadata": {},
   "outputs": [
    {
     "data": {
      "text/html": [
       "<div>\n",
       "<style scoped>\n",
       "    .dataframe tbody tr th:only-of-type {\n",
       "        vertical-align: middle;\n",
       "    }\n",
       "\n",
       "    .dataframe tbody tr th {\n",
       "        vertical-align: top;\n",
       "    }\n",
       "\n",
       "    .dataframe thead th {\n",
       "        text-align: right;\n",
       "    }\n",
       "</style>\n",
       "<table border=\"1\" class=\"dataframe\">\n",
       "  <thead>\n",
       "    <tr style=\"text-align: right;\">\n",
       "      <th></th>\n",
       "      <th>THREAD_POOL_SIZE</th>\n",
       "      <th>RANGE OF</th>\n",
       "      <th>REQUEST</th>\n",
       "      <th>NUMBER</th>\n",
       "      <th>STATUS_CODE</th>\n",
       "      <th>END_TIME</th>\n",
       "      <th>START_TIME</th>\n",
       "    </tr>\n",
       "  </thead>\n",
       "  <tbody>\n",
       "    <tr>\n",
       "      <th>0</th>\n",
       "      <td>0</td>\n",
       "      <td>1000</td>\n",
       "      <td>0</td>\n",
       "      <td>200</td>\n",
       "      <td>2022-11-27 12:43:20.345009</td>\n",
       "      <td>2022-11-27 12:43:19.341172</td>\n",
       "      <td>NaN</td>\n",
       "    </tr>\n",
       "    <tr>\n",
       "      <th>1</th>\n",
       "      <td>0</td>\n",
       "      <td>1000</td>\n",
       "      <td>1</td>\n",
       "      <td>200</td>\n",
       "      <td>2022-11-27 12:43:21.344102</td>\n",
       "      <td>2022-11-27 12:43:19.342807</td>\n",
       "      <td>NaN</td>\n",
       "    </tr>\n",
       "    <tr>\n",
       "      <th>2</th>\n",
       "      <td>0</td>\n",
       "      <td>1000</td>\n",
       "      <td>2</td>\n",
       "      <td>200</td>\n",
       "      <td>2022-11-27 12:43:22.344846</td>\n",
       "      <td>2022-11-27 12:43:19.344561</td>\n",
       "      <td>NaN</td>\n",
       "    </tr>\n",
       "    <tr>\n",
       "      <th>3</th>\n",
       "      <td>0</td>\n",
       "      <td>1000</td>\n",
       "      <td>3</td>\n",
       "      <td>200</td>\n",
       "      <td>2022-11-27 12:43:23.344847</td>\n",
       "      <td>2022-11-27 12:43:19.346085</td>\n",
       "      <td>NaN</td>\n",
       "    </tr>\n",
       "    <tr>\n",
       "      <th>4</th>\n",
       "      <td>0</td>\n",
       "      <td>1000</td>\n",
       "      <td>4</td>\n",
       "      <td>200</td>\n",
       "      <td>2022-11-27 12:43:24.345334</td>\n",
       "      <td>2022-11-27 12:43:19.347478</td>\n",
       "      <td>NaN</td>\n",
       "    </tr>\n",
       "    <tr>\n",
       "      <th>...</th>\n",
       "      <td>...</td>\n",
       "      <td>...</td>\n",
       "      <td>...</td>\n",
       "      <td>...</td>\n",
       "      <td>...</td>\n",
       "      <td>...</td>\n",
       "      <td>...</td>\n",
       "    </tr>\n",
       "    <tr>\n",
       "      <th>995</th>\n",
       "      <td>0</td>\n",
       "      <td>1000</td>\n",
       "      <td>536</td>\n",
       "      <td>200</td>\n",
       "      <td>2022-11-27 12:47:23.428490</td>\n",
       "      <td>2022-11-27 12:43:19.977732</td>\n",
       "      <td>NaN</td>\n",
       "    </tr>\n",
       "    <tr>\n",
       "      <th>996</th>\n",
       "      <td>0</td>\n",
       "      <td>1000</td>\n",
       "      <td>643</td>\n",
       "      <td>200</td>\n",
       "      <td>2022-11-27 12:47:24.428920</td>\n",
       "      <td>2022-11-27 12:43:20.075146</td>\n",
       "      <td>NaN</td>\n",
       "    </tr>\n",
       "    <tr>\n",
       "      <th>997</th>\n",
       "      <td>0</td>\n",
       "      <td>1000</td>\n",
       "      <td>718</td>\n",
       "      <td>200</td>\n",
       "      <td>2022-11-27 12:47:25.429258</td>\n",
       "      <td>2022-11-27 12:43:20.173296</td>\n",
       "      <td>NaN</td>\n",
       "    </tr>\n",
       "    <tr>\n",
       "      <th>998</th>\n",
       "      <td>0</td>\n",
       "      <td>1000</td>\n",
       "      <td>632</td>\n",
       "      <td>200</td>\n",
       "      <td>2022-11-27 12:47:26.430053</td>\n",
       "      <td>2022-11-27 12:43:20.064311</td>\n",
       "      <td>NaN</td>\n",
       "    </tr>\n",
       "    <tr>\n",
       "      <th>999</th>\n",
       "      <td>0</td>\n",
       "      <td>1000</td>\n",
       "      <td>491</td>\n",
       "      <td>200</td>\n",
       "      <td>2022-11-27 12:47:27.430195</td>\n",
       "      <td>2022-11-27 12:43:19.921482</td>\n",
       "      <td>NaN</td>\n",
       "    </tr>\n",
       "  </tbody>\n",
       "</table>\n",
       "<p>1000 rows × 7 columns</p>\n",
       "</div>"
      ],
      "text/plain": [
       "     THREAD_POOL_SIZE  RANGE OF  REQUEST  NUMBER                 STATUS_CODE  \\\n",
       "0                   0      1000        0     200  2022-11-27 12:43:20.345009   \n",
       "1                   0      1000        1     200  2022-11-27 12:43:21.344102   \n",
       "2                   0      1000        2     200  2022-11-27 12:43:22.344846   \n",
       "3                   0      1000        3     200  2022-11-27 12:43:23.344847   \n",
       "4                   0      1000        4     200  2022-11-27 12:43:24.345334   \n",
       "..                ...       ...      ...     ...                         ...   \n",
       "995                 0      1000      536     200  2022-11-27 12:47:23.428490   \n",
       "996                 0      1000      643     200  2022-11-27 12:47:24.428920   \n",
       "997                 0      1000      718     200  2022-11-27 12:47:25.429258   \n",
       "998                 0      1000      632     200  2022-11-27 12:47:26.430053   \n",
       "999                 0      1000      491     200  2022-11-27 12:47:27.430195   \n",
       "\n",
       "                       END_TIME  START_TIME  \n",
       "0    2022-11-27 12:43:19.341172         NaN  \n",
       "1    2022-11-27 12:43:19.342807         NaN  \n",
       "2    2022-11-27 12:43:19.344561         NaN  \n",
       "3    2022-11-27 12:43:19.346085         NaN  \n",
       "4    2022-11-27 12:43:19.347478         NaN  \n",
       "..                          ...         ...  \n",
       "995  2022-11-27 12:43:19.977732         NaN  \n",
       "996  2022-11-27 12:43:20.075146         NaN  \n",
       "997  2022-11-27 12:43:20.173296         NaN  \n",
       "998  2022-11-27 12:43:20.064311         NaN  \n",
       "999  2022-11-27 12:43:19.921482         NaN  \n",
       "\n",
       "[1000 rows x 7 columns]"
      ]
     },
     "execution_count": 7,
     "metadata": {},
     "output_type": "execute_result"
    }
   ],
   "source": [
    "df"
   ]
  },
  {
   "cell_type": "code",
   "execution_count": 12,
   "metadata": {},
   "outputs": [
    {
     "name": "stderr",
     "output_type": "stream",
     "text": [
      "/tmp/ipykernel_337141/1118393149.py:1: FutureWarning: The default value of numeric_only in DataFrameGroupBy.sum is deprecated. In a future version, numeric_only will default to False. Either specify numeric_only or select only columns which should be valid for the function.\n",
      "  plot =  df.groupby([\"NUMBER\"]).sum().plot(kind='pie',y='RANGE OF',autopct='%1.1f%%')\n"
     ]
    },
    {
     "data": {
      "image/png": "[encoded data removed]",
      "text/plain": [
       "<Figure size 640x480 with 1 Axes>"
      ]
     },
     "metadata": {},
     "output_type": "display_data"
    }
   ],
   "source": [
    "plot =  df.groupby([\"NUMBER\"]).sum().plot(kind='pie',y='RANGE OF',autopct='%1.1f%%').set_ylabel(\"For 1000 concurrent requests\")"
   ]
  }
 ],
 "metadata": {
  "kernelspec": {
   "display_name": "Python 3.8.10 ('.venv': venv)",
   "language": "python",
   "name": "python3"
  },
  "language_info": {
   "codemirror_mode": {
    "name": "ipython",
    "version": 3
   },
   "file_extension": ".py",
   "mimetype": "text/x-python",
   "name": "python",
   "nbconvert_exporter": "python",
   "pygments_lexer": "ipython3",
   "version": "3.8.10"
  },
  "orig_nbformat": 4,
  "vscode": {
   "interpreter": {
    "hash": "71919b882b0fba0ca128b06d9acde28689aad29252eca79585c0457cf9076bef"
   }
  }
 },
 "nbformat": 4,
 "nbformat_minor": 2
}
